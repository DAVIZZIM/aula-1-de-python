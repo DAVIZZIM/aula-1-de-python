{
 "cells": [
  {
   "cell_type": "code",
   "execution_count": 4,
   "id": "3fabd482",
   "metadata": {},
   "outputs": [
    {
     "data": {
      "text/plain": [
       "15.666666666666664"
      ]
     },
     "execution_count": 4,
     "metadata": {},
     "output_type": "execute_result"
    }
   ],
   "source": [
    "1.\n",
    "5 * ((10 - 4)**2 / 3**3 + 2) - 1"
   ]
  },
  {
   "cell_type": "code",
   "execution_count": 2,
   "id": "bd3b8f25",
   "metadata": {},
   "outputs": [
    {
     "data": {
      "text/plain": [
       "10.0"
      ]
     },
     "execution_count": 2,
     "metadata": {},
     "output_type": "execute_result"
    }
   ],
   "source": [
    "((8 - 2) ** 2 + (11 - 3) ** 2) **0.5 "
   ]
  },
  {
   "cell_type": "code",
   "execution_count": 3,
   "id": "5add8068",
   "metadata": {},
   "outputs": [
    {
     "data": {
      "text/plain": [
       "7.55"
      ]
     },
     "execution_count": 3,
     "metadata": {},
     "output_type": "execute_result"
    }
   ],
   "source": [
    "(7*3+8.5*5+6*2) / (3+5+2)"
   ]
  }
 ],
 "metadata": {
  "kernelspec": {
   "display_name": "Python 3 (ipykernel)",
   "language": "python",
   "name": "python3"
  },
  "language_info": {
   "codemirror_mode": {
    "name": "ipython",
    "version": 3
   },
   "file_extension": ".py",
   "mimetype": "text/x-python",
   "name": "python",
   "nbconvert_exporter": "python",
   "pygments_lexer": "ipython3",
   "version": "3.12.1"
  }
 },
 "nbformat": 4,
 "nbformat_minor": 5
}
